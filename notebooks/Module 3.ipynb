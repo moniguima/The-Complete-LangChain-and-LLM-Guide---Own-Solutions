{
 "cells": [
  {
   "cell_type": "markdown",
   "id": "cb730414-3f9f-46ea-8db5-405bded3cfcc",
   "metadata": {},
   "source": [
    "# The Complete LangChain and LLM Guide\n",
    "## Module 3: LangChain and LLMs - Deep Dive"
   ]
  },
  {
   "cell_type": "code",
   "execution_count": 1,
   "id": "06e04a96-f2f3-4015-96ec-0aa87527458e",
   "metadata": {},
   "outputs": [],
   "source": [
    "import os\n",
    "import openai\n",
    "from dotenv import find_dotenv, load_dotenv\n",
    "from pathlib import Path"
   ]
  },
  {
   "cell_type": "code",
   "execution_count": 2,
   "id": "0de2238b-8acb-4c02-9eed-f8cf954b61fd",
   "metadata": {},
   "outputs": [],
   "source": [
    "def get_openai_key():\n",
    "    load_dotenv(find_dotenv())\n",
    "    key = os.getenv(\"OPENAI_API_KEY\")\n",
    "    if not key:\n",
    "        raise EnvironmentError(\"OPENAI_API_KEY is missing.\")\n",
    "    return key"
   ]
  },
  {
   "cell_type": "code",
   "execution_count": 3,
   "id": "66ab3e24-ac64-4982-8c47-5bdc9830236a",
   "metadata": {},
   "outputs": [],
   "source": [
    "openai_api_key = get_openai_key()"
   ]
  },
  {
   "cell_type": "markdown",
   "id": "58fa802b-cca5-470d-9bbd-aebb4893950d",
   "metadata": {},
   "source": [
    "### The Two Types of OpenAI Models and Endpoints (from Gemini)\n",
    "OpenAI has two distinct generations of models, each with its own API endpoint:\n",
    "\n",
    "- **Legacy Completion Models**: These are older models like text-davinci-003. They were designed for single-turn text completion. You would give them a prompt like \"What is the capital of France?\" and they would complete the text. The **v1/completions** endpoint is used to call these models.   \n",
    "LangChain's **OpenAI.invoke** method uses the old, default **v1/completions** endpoint.\n",
    "\n",
    "- **Modern Chat Models**: These are all the newer, more powerful models, including gpt-3.5-turbo, gpt-4o, and the recent gpt-5 series. They are designed for multi-turn conversations. You must provide a list of messages with a role (e.g., user, system, assistant) to get a response. These models can only be called using the **v1/chat/completions** endpoint.    \n",
    "LangChain's **ChatOpenAI.invoke** method uses the new, default **v1/chat/completions** endpoint."
   ]
  },
  {
   "cell_type": "markdown",
   "id": "067d587e-fcd1-4039-a3ab-0e5a17f36664",
   "metadata": {},
   "source": [
    "### Using OpenAI\n",
    "- **Model Type**: OpenAI is used for completion models (e.g., text-davinci-003). These models take a single string as input and return a single string as output. This is a simpler, legacy format that is less commonly used for new applications.\n",
    "- **Output Format**: When you call .invoke() on ChatOpenAI, the response is an AIMessage object that contains the content. To get the text, you must access the .content attribute.\n",
    "- **Deprecation**: The completion models used by the OpenAI class have been largely deprecated in favor of the more powerful and cost-effective chat models. For new projects, it is highly recommended to use the ChatOpenAI class and a modern chat model."
   ]
  },
  {
   "cell_type": "code",
   "execution_count": 4,
   "id": "c90c6c1d-48cb-41e6-8203-897e58391d5a",
   "metadata": {},
   "outputs": [],
   "source": [
    "from langchain_openai import OpenAI"
   ]
  },
  {
   "cell_type": "code",
   "execution_count": 5,
   "id": "7914a659-2520-4558-8631-ceca92d31f28",
   "metadata": {},
   "outputs": [],
   "source": [
    "llm_model = \"gpt-3.5-turbo-instruct\""
   ]
  },
  {
   "cell_type": "code",
   "execution_count": 6,
   "id": "4ae50d7d-ed98-4fa6-acef-9f1aeb120625",
   "metadata": {},
   "outputs": [],
   "source": [
    "llm = OpenAI(api_key=openai_api_key, model = llm_model)"
   ]
  },
  {
   "cell_type": "code",
   "execution_count": 7,
   "id": "1e0cf8c3-d8e4-4193-9e03-c36a748f0b77",
   "metadata": {},
   "outputs": [
    {
     "name": "stdout",
     "output_type": "stream",
     "text": [
      "a philosophical question that has been debated by thinkers and scholars for centuries. There is no one answer to this question as it largely depends on an individual's beliefs and values. Some may argue that the meaning of life is to find happiness and fulfillment, while others may believe it is to fulfill a certain destiny or purpose. Some religions and spiritual beliefs posit that the meaning of life is to serve a higher power or to attain enlightenment. Ultimately, the meaning of life is a deeply personal and subjective concept that can differ from person to person.\n"
     ]
    }
   ],
   "source": [
    "response = llm.invoke(\"The meaning of life is \")\n",
    "print(response)"
   ]
  },
  {
   "cell_type": "markdown",
   "id": "4ed203de-4cf5-4555-a92b-a6565acf23da",
   "metadata": {},
   "source": [
    "### Using ChatOpenAI\n",
    "- **Model Type**: ChatOpenAI is used for chat models (e.g., gpt-3.5-turbo, gpt-4). These models are optimized for conversational interfaces and require input in the form of a list of messages (e.g., system, human, AI). The output is a AIMessage object.\n",
    "- **Output Format**: When you call .invoke() on OpenAI, it returns the string output, so you can simply print the response object itself."
   ]
  },
  {
   "cell_type": "code",
   "execution_count": 8,
   "id": "b80688af-fdc6-4634-9b9d-e98909f9f1e0",
   "metadata": {},
   "outputs": [],
   "source": [
    "from langchain_openai import ChatOpenAI\n",
    "from langchain_core.messages import SystemMessage, HumanMessage, AIMessage"
   ]
  },
  {
   "cell_type": "code",
   "execution_count": 9,
   "id": "7a7b9856-c98f-4546-a73b-0d44d8b46b3e",
   "metadata": {},
   "outputs": [],
   "source": [
    "llm_model = \"gpt-5-nano\""
   ]
  },
  {
   "cell_type": "code",
   "execution_count": 10,
   "id": "b692849a-2061-4be6-a8a3-92bfd317adf9",
   "metadata": {},
   "outputs": [],
   "source": [
    "chat_llm = ChatOpenAI(api_key=openai_api_key, model = llm_model)"
   ]
  },
  {
   "cell_type": "code",
   "execution_count": 11,
   "id": "a51a2cc8-a0e0-41a9-ad41-8178592dd970",
   "metadata": {},
   "outputs": [
    {
     "data": {
      "text/plain": [
       "langchain_openai.llms.base.OpenAI"
      ]
     },
     "execution_count": 11,
     "metadata": {},
     "output_type": "execute_result"
    }
   ],
   "source": [
    "type(llm)"
   ]
  },
  {
   "cell_type": "code",
   "execution_count": 12,
   "id": "5f94b55a-481e-4e67-959c-9b251f878b34",
   "metadata": {},
   "outputs": [],
   "source": [
    "response = chat_llm.invoke(\"The meaning of life is \")"
   ]
  },
  {
   "cell_type": "code",
   "execution_count": 13,
   "id": "f2493fce-15ca-478f-9977-e4703f16fc2b",
   "metadata": {},
   "outputs": [
    {
     "name": "stdout",
     "output_type": "stream",
     "text": [
      "content='There isn’t a single universal answer. Different traditions and people offer different takes. Here are a few common perspectives:\\n\\n- Existential/secular: Life has no built-in meaning; we create meaning through our choices, relationships, and the projects we dedicate ourselves to.\\n- Religious/spiritual: Meaning comes from aligning with a higher purpose, God, or a larger plan beyond ourselves.\\n- Humanist/ethical: Meaning arises from helping others, reducing suffering, and contributing to the well-being of our communities.\\n- Scientific/cosmological: Life is a product of natural processes; meaning can come from wonder, curiosity, and the connections we build with others.\\n\\nWays to discover your own meaning:\\n- Identify your core values (e.g., honesty, kindness, growth, freedom) and see how your life aligns with them.\\n- Recall moments when you felt deeply fulfilled or “on purpose” and notice what you were doing.\\n- Define a personal mission or purpose statement (a sentence or two about what you want to contribute).\\n- Try small experiments: volunteer, learn something new, create something, invest in relationships, or help someone in need.\\n- Revisit and adjust as your experiences and priorities change.\\n\\nIf you’d like, tell me your leanings (philosophical, religious, practical, etc.) or what matters most to you, and I can tailor a more specific view or exercises.' additional_kwargs={'refusal': None} response_metadata={'token_usage': {'completion_tokens': 1121, 'prompt_tokens': 12, 'total_tokens': 1133, 'completion_tokens_details': {'accepted_prediction_tokens': 0, 'audio_tokens': 0, 'reasoning_tokens': 832, 'rejected_prediction_tokens': 0}, 'prompt_tokens_details': {'audio_tokens': 0, 'cached_tokens': 0}}, 'model_name': 'gpt-5-nano-2025-08-07', 'system_fingerprint': None, 'id': 'chatcmpl-C6FEPVLBPuERHh1s1rwJLC6NYInic', 'service_tier': 'default', 'finish_reason': 'stop', 'logprobs': None} id='run--d27bfa5c-bdaf-4384-9b07-7bd6b3390e87-0' usage_metadata={'input_tokens': 12, 'output_tokens': 1121, 'total_tokens': 1133, 'input_token_details': {'audio': 0, 'cache_read': 0}, 'output_token_details': {'audio': 0, 'reasoning': 832}}\n"
     ]
    }
   ],
   "source": [
    "print(response)"
   ]
  },
  {
   "cell_type": "code",
   "execution_count": 14,
   "id": "b635664d-34c5-406b-826a-8fa377adc59a",
   "metadata": {},
   "outputs": [
    {
     "name": "stdout",
     "output_type": "stream",
     "text": [
      "There isn’t a single universal answer. Different traditions and people offer different takes. Here are a few common perspectives:\n",
      "\n",
      "- Existential/secular: Life has no built-in meaning; we create meaning through our choices, relationships, and the projects we dedicate ourselves to.\n",
      "- Religious/spiritual: Meaning comes from aligning with a higher purpose, God, or a larger plan beyond ourselves.\n",
      "- Humanist/ethical: Meaning arises from helping others, reducing suffering, and contributing to the well-being of our communities.\n",
      "- Scientific/cosmological: Life is a product of natural processes; meaning can come from wonder, curiosity, and the connections we build with others.\n",
      "\n",
      "Ways to discover your own meaning:\n",
      "- Identify your core values (e.g., honesty, kindness, growth, freedom) and see how your life aligns with them.\n",
      "- Recall moments when you felt deeply fulfilled or “on purpose” and notice what you were doing.\n",
      "- Define a personal mission or purpose statement (a sentence or two about what you want to contribute).\n",
      "- Try small experiments: volunteer, learn something new, create something, invest in relationships, or help someone in need.\n",
      "- Revisit and adjust as your experiences and priorities change.\n",
      "\n",
      "If you’d like, tell me your leanings (philosophical, religious, practical, etc.) or what matters most to you, and I can tailor a more specific view or exercises.\n"
     ]
    }
   ],
   "source": [
    "print(response.content)"
   ]
  },
  {
   "cell_type": "markdown",
   "id": "5c7d2869-0200-4c5a-b979-5f9c2cba2f4c",
   "metadata": {},
   "source": [
    "### How to Use a List of Messages (from Gemini)\n",
    "\n",
    "When you call `ChatOpenAI.invoke`, the input should be a **list of `BaseMessage` objects** from `langchain_core.messages`. This list represents the full conversation history that you want the model to consider when generating its response.\n",
    "\n",
    "The messages are typically one of three types:\n",
    "\n",
    "  * **`SystemMessage`**: Provides instructions or context to the model for the entire conversation.\n",
    "  * **`HumanMessage`**: Represents a message from the user.\n",
    "  * **`AIMessage`**: Represents a message from the assistant (the model).\n",
    "\n",
    "Here's an example:\n",
    "\n",
    "```python\n",
    "from langchain_openai import ChatOpenAI\n",
    "from langchain_core.messages import SystemMessage, HumanMessage, AIMessage\n",
    "\n",
    "chat_model = ChatOpenAI(model=\"gpt-4o\")\n",
    "\n",
    "messages = [\n",
    "    SystemMessage(content=\"You are a helpful assistant that translates English to French.\"),\n",
    "    HumanMessage(content=\"I love programming.\"),\n",
    "    AIMessage(content=\"J'adore la programmation.\"),\n",
    "    HumanMessage(content=\"What is a vector store?\"),\n",
    "]\n",
    "\n",
    "response = chat_model.invoke(messages)\n",
    "\n",
    "print(response.content)\n",
    "```\n",
    "\n",
    "In this example, the model receives the entire history, including the initial system message and previous turns of the conversation. This allows it to understand the context and generate a relevant response for the final question."
   ]
  },
  {
   "cell_type": "code",
   "execution_count": 15,
   "id": "b98dd70e-8839-47e9-88c6-931eb8390e51",
   "metadata": {},
   "outputs": [],
   "source": [
    "messages = [\n",
    "    SystemMessage(content=\"You are an astronomer talking to a non-technical audience\"),\n",
    "    HumanMessage(content=\"What is a black hole?\")\n",
    "]"
   ]
  },
  {
   "cell_type": "code",
   "execution_count": 16,
   "id": "8a6d462b-7bde-44f5-95af-5737239d0a34",
   "metadata": {},
   "outputs": [],
   "source": [
    "response= chat_llm.invoke(messages)"
   ]
  },
  {
   "cell_type": "code",
   "execution_count": 17,
   "id": "3d337cc1-9428-4ebf-81ed-b7821fb7eacf",
   "metadata": {},
   "outputs": [
    {
     "name": "stdout",
     "output_type": "stream",
     "text": [
      "Short version:\n",
      "A black hole is a region in space where gravity is so strong that nothing can escape from it, not even light, once it crosses a boundary called the event horizon. Everything inside the boundary is crushed into an incredibly dense region.\n",
      "\n",
      "A bit more detail, in plain language:\n",
      "- What it is: Think of a black hole as a mind-bogglingly dense lump of matter plus an extreme gravitational field. The mass is packed into a very tiny area, so gravity there is unbelievably strong.\n",
      "- Event horizon: This is the “point of no return.” If something crosses this boundary, it cannot get away. From the outside, you’d only notice the black hole by its strong gravity and the effects on nearby matter.\n",
      "- Not a hole in space: It’s not literally a hole you could fall through. It’s a region where space and time are bent so extremely by gravity.\n",
      "- Singularity (theory): At the very center, general relativity predicts a point where density would become infinite. That’s a place where our current theories don’t fully describe what happens. In practice, we think quantum effects would change the story there, but that region is hidden behind the event horizon.\n",
      "\n",
      "Main types (in simple terms):\n",
      "- Stellar-mass black holes: A few to a few dozen times the mass of the Sun. They form when massive stars die and collapse.\n",
      "- Supermassive black holes: Millions to billions of solar masses. They sit at the centers of most galaxies, including our Milky Way, and grow by gobbling up gas and by merging with other black holes.\n",
      "- There are possibilities of intermediate-mass black holes (thousands to millions of solar masses) and hypothetical primordial black holes, but those are areas of active research.\n",
      "\n",
      "How we know they exist (since we can’t see them directly):\n",
      "- We see stars orbiting an invisible, very massive object. Their motions tell us there’s a lot of mass there, even though we can’t see the object itself.\n",
      "- Gas falling toward a black hole gets extremely hot and shines brightly in X-rays, forming an accretion disk around the hole.\n",
      "- Gravitational waves: Mergers of black holes ripple spacetime in a way we can detect with instruments like LIGO and Virgo.\n",
      "- The “shadow” image: The Event Horizon Telescope imaged a bright ring with a dark center for a supermassive black hole, showing the region where light cannot escape.\n",
      "\n",
      "A couple of quick takeaways:\n",
      "- Black holes are not cosmic vacuum cleaners that suck in everything nearby. They only capture things that get too close—like a whirlpool capturing a leaf if it drifts near enough.\n",
      "- They are windows into gravity under extreme conditions, helping us test our understanding of physics.\n",
      "\n",
      "If you’d like, I can tailor this to a specific black hole type (stellar-mass vs supermassive) or explain one of the detection methods in more detail.\n"
     ]
    }
   ],
   "source": [
    "print(response.content)"
   ]
  },
  {
   "cell_type": "code",
   "execution_count": null,
   "id": "169da704-8a58-40cb-9f0d-68928c5ec195",
   "metadata": {},
   "outputs": [],
   "source": []
  }
 ],
 "metadata": {
  "kernelspec": {
   "display_name": "Python 3 (ipykernel)",
   "language": "python",
   "name": "python3"
  },
  "language_info": {
   "codemirror_mode": {
    "name": "ipython",
    "version": 3
   },
   "file_extension": ".py",
   "mimetype": "text/x-python",
   "name": "python",
   "nbconvert_exporter": "python",
   "pygments_lexer": "ipython3",
   "version": "3.12.7"
  }
 },
 "nbformat": 4,
 "nbformat_minor": 5
}
