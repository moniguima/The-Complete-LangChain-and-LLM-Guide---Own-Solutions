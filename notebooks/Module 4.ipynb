{
 "cells": [
  {
   "cell_type": "markdown",
   "id": "13cc7071-6e26-4c05-abec-81eebb22d3c3",
   "metadata": {},
   "source": [
    "# The Complete LangChain and LLM Guide\n",
    "## Module 4: LangChain Prompt Templates"
   ]
  },
  {
   "cell_type": "code",
   "execution_count": 1,
   "id": "b16a10c8-e52d-4c0f-8591-08d51b5cb4d5",
   "metadata": {},
   "outputs": [],
   "source": [
    "import os\n",
    "import openai\n",
    "from dotenv import find_dotenv, load_dotenv"
   ]
  },
  {
   "cell_type": "markdown",
   "id": "161ec621-4d7e-406d-a2d1-871e0109a8ed",
   "metadata": {},
   "source": [
    "### ChatOpenAI - with fString"
   ]
  },
  {
   "cell_type": "code",
   "execution_count": 2,
   "id": "472acc68-0879-4752-abcb-2b76ae4d270a",
   "metadata": {},
   "outputs": [],
   "source": [
    "from langchain_openai import ChatOpenAI"
   ]
  },
  {
   "cell_type": "code",
   "execution_count": 3,
   "id": "36f3a896-70b3-4164-982e-7e5d0067b259",
   "metadata": {},
   "outputs": [],
   "source": [
    "def get_openai_key():\n",
    "    load_dotenv(find_dotenv())\n",
    "    key = os.getenv(\"OPENAI_API_KEY\")\n",
    "    if not key:\n",
    "        raise EnvironmentError(\"OPENAI_API_KEY is missing.\")\n",
    "    return key"
   ]
  },
  {
   "cell_type": "code",
   "execution_count": 4,
   "id": "b6df0e1d-7f70-4a95-b0dc-9e95ee3506db",
   "metadata": {},
   "outputs": [],
   "source": [
    "openai_api_key = get_openai_key()"
   ]
  },
  {
   "cell_type": "markdown",
   "id": "923ab404-d5e5-4014-9b35-026e0add2f49",
   "metadata": {},
   "source": [
    "#### OpenAI Model API Prices    \n",
    "\n",
    "| Model               | price per 1M Input Tokens | price per 1M Output Tokens | Characteristics / Notes  |    \n",
    "---------------------|------------------------|--------------------------|----------------------------------------------------------------------------------------|    \n",
    "| **GPT-5 nano**      | 0.05                   | 0.40                     | Fastest, cheapest GPT-5 variant; ideal for summarization/classification  |\n",
    "| **GPT-4o mini**     | 0.15                   | 0.60                     | Multimodal (text, image, audio); cheaper than gpt-3.5; smaller and faster variant  |    \n",
    "| **GPT-5 mini**      | 0.25                   | 2.00                     | Mid-tier GPT-5 variant, balanced speed and cost  |\n",
    "| **gpt-3.5-turbo**   | 0.50                   | 1.50                     | Highly cost-effective for general chat and coding; 16k context window  |     \n",
    "| **GPT-5 (full)**    | 1.25                   | 10.00                    | Flagship GPT-5: high performance, large 400k+ context window |\n",
    "| **GPT-4o (full)**   | 2.50                   | 10.00                    | Powerful multimodal model (vision, speech, translation); high performance  |\n",
    "| **GPT-4.5**         | 75.00                  | 150.00                   | Very large model, creative insights, training via unsupervised learning; expensive |\n",
    "| **o1-pro**          | 150.00                 | 600.00                   | Top-tier “reasoning” model; highest cost yet, powerful STEM capability |\n"
   ]
  },
  {
   "cell_type": "code",
   "execution_count": 5,
   "id": "ab6057fa-7076-44f6-a2a8-67cbf3922c4e",
   "metadata": {},
   "outputs": [],
   "source": [
    "llm_model = \"gpt-5-nano\""
   ]
  },
  {
   "cell_type": "code",
   "execution_count": 6,
   "id": "0d32b491-61c8-4af6-8e52-38bf15f0d090",
   "metadata": {},
   "outputs": [],
   "source": [
    "chat_llm = ChatOpenAI(api_key=openai_api_key, model = llm_model)"
   ]
  },
  {
   "cell_type": "code",
   "execution_count": 7,
   "id": "e602e12f-4814-42ce-8bcb-db0db0b87b1b",
   "metadata": {},
   "outputs": [
    {
     "data": {
      "text/plain": [
       "langchain_openai.chat_models.base.ChatOpenAI"
      ]
     },
     "execution_count": 7,
     "metadata": {},
     "output_type": "execute_result"
    }
   ],
   "source": [
    "type(chat_llm)"
   ]
  },
  {
   "cell_type": "code",
   "execution_count": 8,
   "id": "0c9a3190-e552-48de-b2da-635e02bbf9ac",
   "metadata": {},
   "outputs": [],
   "source": [
    "customer_review = \"\"\"\n",
    "    I can't believe I wasted my time and money on this pathetic excuse for a service. \n",
    "    This is a scam, and anyone who buys from you is an idiot. \n",
    "    You people are a joke.\n",
    "\"\"\""
   ]
  },
  {
   "cell_type": "code",
   "execution_count": 9,
   "id": "0e63db1c-ffd2-4433-82ec-1f15989e4e13",
   "metadata": {},
   "outputs": [
    {
     "data": {
      "text/plain": [
       "\"\\n    Rewrite the customer review message in a polite tone, and then please translate the new review message into Portuguese.\\n    Review: \\n    I can't believe I wasted my time and money on this pathetic excuse for a service. \\n    This is a scam, and anyone who buys from you is an idiot. \\n    You people are a joke.\\n\\n\""
      ]
     },
     "execution_count": 9,
     "metadata": {},
     "output_type": "execute_result"
    }
   ],
   "source": [
    "template = f\"\"\"\n",
    "    Rewrite the customer review message in a polite tone, and then please translate the new review message into Portuguese.\n",
    "    Review: {customer_review}\n",
    "\"\"\"\n",
    "template"
   ]
  },
  {
   "cell_type": "code",
   "execution_count": 10,
   "id": "b87e2414-f060-4556-94c2-2e1638bd3eac",
   "metadata": {},
   "outputs": [
    {
     "data": {
      "text/plain": [
       "[{'role': 'user',\n",
       "  'content': \"\\n    Rewrite the customer review message in a polite tone, and then please translate the new review message into Portuguese.\\n    Review: \\n    I can't believe I wasted my time and money on this pathetic excuse for a service. \\n    This is a scam, and anyone who buys from you is an idiot. \\n    You people are a joke.\\n\\n\"}]"
      ]
     },
     "execution_count": 10,
     "metadata": {},
     "output_type": "execute_result"
    }
   ],
   "source": [
    "# create the message list \n",
    "messages = [{\"role\":\"user\", \"content\" : template}]\n",
    "messages"
   ]
  },
  {
   "cell_type": "code",
   "execution_count": 11,
   "id": "036f724a-17b8-4d7c-880c-43f6c8bb317c",
   "metadata": {},
   "outputs": [
    {
     "name": "stdout",
     "output_type": "stream",
     "text": [
      "content='- Polite English version:\\nRegrettably, I feel that my time and money were not well spent on this service. The experience did not meet my expectations, and I am concerned that it did not align with the claims advertised. I would appreciate assistance with a satisfactory resolution, such as a refund or guidance on how to resolve the issue. Thank you for your attention to this matter.\\n\\n- Portuguese translation:\\nInfelizmente, sinto que meu tempo e meu dinheiro não foram bem gastos neste serviço. A experiência não atendeu às minhas expectativas e temo que não tenha correspondido às promessas anunciadas. Agradeceria assistência para uma resolução satisfatória, como um reembolso ou orientações sobre como resolver o problema. Agradeço pela atenção a este assunto.' additional_kwargs={'refusal': None} response_metadata={'token_usage': {'completion_tokens': 2274, 'prompt_tokens': 76, 'total_tokens': 2350, 'completion_tokens_details': {'accepted_prediction_tokens': 0, 'audio_tokens': 0, 'reasoning_tokens': 2112, 'rejected_prediction_tokens': 0}, 'prompt_tokens_details': {'audio_tokens': 0, 'cached_tokens': 0}}, 'model_name': 'gpt-5-nano-2025-08-07', 'system_fingerprint': None, 'id': 'chatcmpl-C99j9zFMk5uJuKz2ZoqKxbBFCRMMY', 'service_tier': 'default', 'finish_reason': 'stop', 'logprobs': None} id='run--b0ead19d-a3e9-4775-a9a1-bba96611ac30-0' usage_metadata={'input_tokens': 76, 'output_tokens': 2274, 'total_tokens': 2350, 'input_token_details': {'audio': 0, 'cache_read': 0}, 'output_token_details': {'audio': 0, 'reasoning': 2112}}\n"
     ]
    }
   ],
   "source": [
    "response = chat_llm.invoke(messages)\n",
    "print(response)"
   ]
  },
  {
   "cell_type": "markdown",
   "id": "f934d9d6-bc06-4503-a3bc-e5fe1b1811f1",
   "metadata": {},
   "source": [
    "### ChatAPI - with Prompt Templates"
   ]
  },
  {
   "cell_type": "markdown",
   "id": "25b2ce16-2c35-4240-ae2e-3766ac9c55d1",
   "metadata": {},
   "source": [
    "#### Explanation of ChatPromptTemplate.from_template (from Gemini)\n",
    "\n",
    "`ChatPromptTemplate.from_template` is a convenient way to create a `ChatPromptTemplate` in LangChain from a simple string template. It automatically handles the conversion of a single string into a list of messages, assuming the user's input is a single message.\n",
    "\n",
    "The main benefit of using `from_template` is its simplicity for common use cases. You don't need to manually define the `system` and `human` messages as separate components. The method takes a single string, and it automatically creates a `HumanMessagePromptTemplate` from it.\n",
    "\n",
    "Here's a breakdown of how it works and a simple example:\n",
    "\n",
    "**How it works:**\n",
    "\n",
    "1.  **Input:** You provide a single string that acts as a template for the human message. You can include placeholders (e.g., `{input_variable}`) that will be filled in later.\n",
    "\n",
    "2.  **Automatic Conversion:** LangChain's `from_template` method takes this string and creates a `HumanMessagePromptTemplate` object. This object represents a message from the user.\n",
    "\n",
    "3.  **Result:** The final output is a `ChatPromptTemplate` with a single message template inside it. When you format this template with your input variables, it produces a list containing a single `HumanMessage` object.\n",
    "\n",
    "**Example:**\n",
    "\n",
    "Let's say you want to create a simple prompt that asks a user for a company name and then suggests a catchy slogan.\n",
    "\n",
    "```python\n",
    "from langchain.prompts import ChatPromptTemplate\n",
    "from langchain_core.messages import HumanMessage\n",
    "\n",
    "# Define the template string\n",
    "template = \"What is a good slogan for a company named {company_name}?\"\n",
    "\n",
    "# Create the ChatPromptTemplate using from_template\n",
    "prompt = ChatPromptTemplate.from_template(template)\n",
    "\n",
    "# Now, let's use the prompt\n",
    "input_variables = {\"company_name\": \"Acme Inc.\"}\n",
    "formatted_messages = prompt.format_messages(**input_variables)\n",
    "\n",
    "# The result is a list of Chat messages\n",
    "print(formatted_messages)\n",
    "print(type(formatted_messages[0]))\n",
    "```\n",
    "\n",
    "**Output:**\n",
    "\n",
    "```\n",
    "[HumanMessage(content='What is a good slogan for a company named Acme Inc.')]\n",
    "<class 'langchain_core.messages.human.HumanMessage'>\n",
    "```\n",
    "\n",
    "**Key Takeaways:**\n",
    "\n",
    "  * **Simplicity:** Best for simple, single-message prompts.\n",
    "  * **Automatic `HumanMessage`:** It automatically wraps your template string in a `HumanMessagePromptTemplate`.\n",
    "  * **Alternative to `from_messages`:** It's a quick alternative to `ChatPromptTemplate.from_messages` **when you only need a single user message**.\n",
    "  * **Limitations:** For more complex prompts that require multiple message types (e.g., `SystemMessage`, `AIMessage`, or a series of `HumanMessage`s), you should use `ChatPromptTemplate.from_messages`.\n",
    "\n",
    "**When to use `from_template`:**\n",
    "\n",
    "  * You're building a simple chatbot or tool that takes a single user query.\n",
    "  * You want a quick and easy way to create a `ChatPromptTemplate` without a lot of boilerplate code.\n",
    "  * Your prompt only consists of a single `HumanMessage`.\n",
    "\n",
    "**In summary**, `ChatPromptTemplate.from_template` is your go-to function for creating a simple, single-message prompt in LangChain."
   ]
  },
  {
   "cell_type": "code",
   "execution_count": 12,
   "id": "bed4c807-44a3-47aa-b83f-1d8ae7dea571",
   "metadata": {},
   "outputs": [],
   "source": [
    "from langchain_core.prompts import ChatPromptTemplate"
   ]
  },
  {
   "cell_type": "code",
   "execution_count": 13,
   "id": "cc0ee4ed-b159-4e20-ae19-fb12a49a811a",
   "metadata": {},
   "outputs": [],
   "source": [
    "llm_model = \"gpt-5-nano\""
   ]
  },
  {
   "cell_type": "code",
   "execution_count": 14,
   "id": "6603ce59-9958-4f86-9b4e-545944ea94ea",
   "metadata": {},
   "outputs": [],
   "source": [
    "chat_llm = ChatOpenAI(api_key=openai_api_key, model = llm_model)"
   ]
  },
  {
   "cell_type": "code",
   "execution_count": 15,
   "id": "a0772a19-2458-455d-a60d-7adfaf525646",
   "metadata": {},
   "outputs": [],
   "source": [
    "customer_review = \"\"\"\n",
    "    I can't believe I wasted my time and money on this pathetic excuse for a service. \n",
    "    This is a scam, and anyone who buys from you is an idiot. \n",
    "    You people are a joke.\n",
    "\"\"\""
   ]
  },
  {
   "cell_type": "code",
   "execution_count": 16,
   "id": "5a7e939c-0930-46e9-a384-00bce127c560",
   "metadata": {},
   "outputs": [],
   "source": [
    "# Define the template string\n",
    "template = f\"\"\"\n",
    "    Rewrite the customer review message in a polite tone, and then please translate the new review message into Italian.\n",
    "    Review: {customer_review}\n",
    "\"\"\""
   ]
  },
  {
   "cell_type": "code",
   "execution_count": 17,
   "id": "03bd73dd-21e5-4dc0-a63a-8331671f82cd",
   "metadata": {},
   "outputs": [
    {
     "data": {
      "text/plain": [
       "ChatPromptTemplate(input_variables=[], input_types={}, partial_variables={}, messages=[HumanMessagePromptTemplate(prompt=PromptTemplate(input_variables=[], input_types={}, partial_variables={}, template=\"\\n    Rewrite the customer review message in a polite tone, and then please translate the new review message into Italian.\\n    Review: \\n    I can't believe I wasted my time and money on this pathetic excuse for a service. \\n    This is a scam, and anyone who buys from you is an idiot. \\n    You people are a joke.\\n\\n\"), additional_kwargs={})])"
      ]
     },
     "execution_count": 17,
     "metadata": {},
     "output_type": "execute_result"
    }
   ],
   "source": [
    "# Create the ChatPromptTemplate using from_template\n",
    "prompt = ChatPromptTemplate.from_template(template)\n",
    "prompt"
   ]
  },
  {
   "cell_type": "code",
   "execution_count": 18,
   "id": "8e74e3a7-8d35-4892-b4e2-017b7011347c",
   "metadata": {},
   "outputs": [
    {
     "data": {
      "text/plain": [
       "langchain_core.prompts.chat.ChatPromptTemplate"
      ]
     },
     "execution_count": 18,
     "metadata": {},
     "output_type": "execute_result"
    }
   ],
   "source": [
    "type(prompt)"
   ]
  },
  {
   "cell_type": "code",
   "execution_count": 19,
   "id": "428583d6-f97e-4166-8c81-a17fb54d4550",
   "metadata": {},
   "outputs": [
    {
     "data": {
      "text/plain": [
       "\"Human: \\n    Rewrite the customer review message in a polite tone, and then please translate the new review message into Italian.\\n    Review: \\n    I can't believe I wasted my time and money on this pathetic excuse for a service. \\n    This is a scam, and anyone who buys from you is an idiot. \\n    You people are a joke.\\n\\n\""
      ]
     },
     "execution_count": 19,
     "metadata": {},
     "output_type": "execute_result"
    }
   ],
   "source": [
    "# Format the prompt with the input variable, which creates a LangChain message object\n",
    "formatted_prompt = prompt.format(customer_review=customer_review)\n",
    "formatted_prompt"
   ]
  },
  {
   "cell_type": "code",
   "execution_count": 20,
   "id": "f54ed753-3a88-4690-a5df-a89f2457888c",
   "metadata": {},
   "outputs": [
    {
     "data": {
      "text/plain": [
       "str"
      ]
     },
     "execution_count": 20,
     "metadata": {},
     "output_type": "execute_result"
    }
   ],
   "source": [
    "type(formatted_prompt)"
   ]
  },
  {
   "cell_type": "code",
   "execution_count": 21,
   "id": "eb4d8db4-a248-4354-92d4-d465c8fee06b",
   "metadata": {},
   "outputs": [],
   "source": [
    "# Directly invoke the language model with the formatted prompt\n",
    "response = chat_llm.invoke(formatted_prompt)"
   ]
  },
  {
   "cell_type": "code",
   "execution_count": 22,
   "id": "e55e91a3-861b-4095-9512-bd08367fcec1",
   "metadata": {},
   "outputs": [
    {
     "data": {
      "text/plain": [
       "langchain_core.messages.ai.AIMessage"
      ]
     },
     "execution_count": 22,
     "metadata": {},
     "output_type": "execute_result"
    }
   ],
   "source": [
    "type(response)"
   ]
  },
  {
   "cell_type": "code",
   "execution_count": 23,
   "id": "841dc531-242c-40e0-be52-ee924869adef",
   "metadata": {},
   "outputs": [
    {
     "name": "stdout",
     "output_type": "stream",
     "text": [
      "content='Polite rewrite (English):\\nI am disappointed with the service and feel that my time and money were not well spent. The experience did not meet my expectations, and I would not recommend this company to others. I hope you take customer feedback seriously and consider making improvements.\\n\\nItalian translation:\\nSono deluso dal servizio e sento che il mio tempo e i miei soldi non sono stati ben spesi. Questa esperienza non ha soddisfatto le mie aspettative e non consiglierei questa azienda ad altri. Spero che prendiate sul serio il feedback dei clienti e che valutiate eventuali miglioramenti.' additional_kwargs={'refusal': None} response_metadata={'token_usage': {'completion_tokens': 1282, 'prompt_tokens': 78, 'total_tokens': 1360, 'completion_tokens_details': {'accepted_prediction_tokens': 0, 'audio_tokens': 0, 'reasoning_tokens': 1152, 'rejected_prediction_tokens': 0}, 'prompt_tokens_details': {'audio_tokens': 0, 'cached_tokens': 0}}, 'model_name': 'gpt-5-nano-2025-08-07', 'system_fingerprint': None, 'id': 'chatcmpl-C99jLMoUrtU7Bl7p8TEA3ld34ePTQ', 'service_tier': 'default', 'finish_reason': 'stop', 'logprobs': None} id='run--84071659-bd54-4bf1-add5-8c4b86e830f2-0' usage_metadata={'input_tokens': 78, 'output_tokens': 1282, 'total_tokens': 1360, 'input_token_details': {'audio': 0, 'cache_read': 0}, 'output_token_details': {'audio': 0, 'reasoning': 1152}}\n",
      "---------------------\n",
      "Polite rewrite (English):\n",
      "I am disappointed with the service and feel that my time and money were not well spent. The experience did not meet my expectations, and I would not recommend this company to others. I hope you take customer feedback seriously and consider making improvements.\n",
      "\n",
      "Italian translation:\n",
      "Sono deluso dal servizio e sento che il mio tempo e i miei soldi non sono stati ben spesi. Questa esperienza non ha soddisfatto le mie aspettative e non consiglierei questa azienda ad altri. Spero che prendiate sul serio il feedback dei clienti e che valutiate eventuali miglioramenti.\n"
     ]
    }
   ],
   "source": [
    "# The result is a list of Chat messages\n",
    "print(response)\n",
    "print(\"---------------------\")\n",
    "print(response.content)"
   ]
  },
  {
   "cell_type": "markdown",
   "id": "2bc26cad-3c80-4466-a026-d39fedbb7984",
   "metadata": {},
   "source": [
    "#### Variant using chains"
   ]
  },
  {
   "cell_type": "code",
   "execution_count": 24,
   "id": "e7a21e24-fb6d-4156-b191-a6d038bfcc56",
   "metadata": {},
   "outputs": [],
   "source": [
    "prompt = ChatPromptTemplate.from_template(template)"
   ]
  },
  {
   "cell_type": "code",
   "execution_count": 25,
   "id": "fb461794-7203-4829-bd60-d1125cb5bfa4",
   "metadata": {},
   "outputs": [],
   "source": [
    "chain = prompt | chat_llm"
   ]
  },
  {
   "cell_type": "code",
   "execution_count": 26,
   "id": "e1172d6d-92ca-433d-96f8-550ff525e0bd",
   "metadata": {},
   "outputs": [],
   "source": [
    "input_variables = {\"customer_review\": customer_review}"
   ]
  },
  {
   "cell_type": "code",
   "execution_count": 27,
   "id": "39dbf612-f1bd-4666-a0c1-67da1a7c04ed",
   "metadata": {},
   "outputs": [],
   "source": [
    "response = chain.invoke(input_variables)"
   ]
  },
  {
   "cell_type": "code",
   "execution_count": 28,
   "id": "82dcf22f-a9f8-4546-9178-04cc5565f686",
   "metadata": {},
   "outputs": [
    {
     "name": "stdout",
     "output_type": "stream",
     "text": [
      "content='Polite rewrite (English):\\nRegrettably, I am disappointed with the service and feel that it did not provide good value for the money I spent. I felt misled by how the product or service was described, and I would appreciate a clear explanation or resolution. I hope you can address these concerns so that other customers have a better experience.\\n\\nItalian translation:\\nCon rammarico, sono deluso dal servizio e ritengo che non abbia offerto un buon rapporto qualità-prezzo rispetto al costo sostenuto. Mi è sembrato che la descrizione non corrispondesse a quanto offerto, e apprezzerei una spiegazione chiara o una soluzione. Spero che possiate affrontare queste preoccupazioni in modo che anche gli altri clienti abbiano una migliore esperienza.' additional_kwargs={'refusal': None} response_metadata={'token_usage': {'completion_tokens': 2346, 'prompt_tokens': 76, 'total_tokens': 2422, 'completion_tokens_details': {'accepted_prediction_tokens': 0, 'audio_tokens': 0, 'reasoning_tokens': 2176, 'rejected_prediction_tokens': 0}, 'prompt_tokens_details': {'audio_tokens': 0, 'cached_tokens': 0}}, 'model_name': 'gpt-5-nano-2025-08-07', 'system_fingerprint': None, 'id': 'chatcmpl-C99jU9dZj7W8H5NNWHbBlCWofGTaB', 'service_tier': 'default', 'finish_reason': 'stop', 'logprobs': None} id='run--c216f4b4-21b2-4359-b29e-56fea43115fe-0' usage_metadata={'input_tokens': 76, 'output_tokens': 2346, 'total_tokens': 2422, 'input_token_details': {'audio': 0, 'cache_read': 0}, 'output_token_details': {'audio': 0, 'reasoning': 2176}}\n",
      "---------------------\n",
      "Polite rewrite (English):\n",
      "Regrettably, I am disappointed with the service and feel that it did not provide good value for the money I spent. I felt misled by how the product or service was described, and I would appreciate a clear explanation or resolution. I hope you can address these concerns so that other customers have a better experience.\n",
      "\n",
      "Italian translation:\n",
      "Con rammarico, sono deluso dal servizio e ritengo che non abbia offerto un buon rapporto qualità-prezzo rispetto al costo sostenuto. Mi è sembrato che la descrizione non corrispondesse a quanto offerto, e apprezzerei una spiegazione chiara o una soluzione. Spero che possiate affrontare queste preoccupazioni in modo che anche gli altri clienti abbiano una migliore esperienza.\n"
     ]
    }
   ],
   "source": [
    "print(response)\n",
    "print(\"---------------------\")\n",
    "print(response.content)"
   ]
  },
  {
   "cell_type": "code",
   "execution_count": null,
   "id": "7ee93a5f-2d99-4068-a343-88e09a1f42fd",
   "metadata": {},
   "outputs": [],
   "source": []
  },
  {
   "cell_type": "code",
   "execution_count": null,
   "id": "8715a7b7-ecf3-4a63-8122-7b3cb5ebe2da",
   "metadata": {},
   "outputs": [],
   "source": []
  }
 ],
 "metadata": {
  "kernelspec": {
   "display_name": "Python 3 (ipykernel)",
   "language": "python",
   "name": "python3"
  },
  "language_info": {
   "codemirror_mode": {
    "name": "ipython",
    "version": 3
   },
   "file_extension": ".py",
   "mimetype": "text/x-python",
   "name": "python",
   "nbconvert_exporter": "python",
   "pygments_lexer": "ipython3",
   "version": "3.12.7"
  }
 },
 "nbformat": 4,
 "nbformat_minor": 5
}
