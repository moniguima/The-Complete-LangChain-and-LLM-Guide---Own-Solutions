{
 "cells": [
  {
   "cell_type": "markdown",
   "id": "cb730414-3f9f-46ea-8db5-405bded3cfcc",
   "metadata": {},
   "source": [
    "# The Complete LangChain and LLM Guide\n",
    "## Module 3: LangChain and LLMs - Deep Dive"
   ]
  },
  {
   "cell_type": "code",
   "execution_count": 1,
   "id": "06e04a96-f2f3-4015-96ec-0aa87527458e",
   "metadata": {},
   "outputs": [],
   "source": [
    "import os\n",
    "import openai\n",
    "from dotenv import find_dotenv, load_dotenv\n",
    "from pathlib import Path"
   ]
  },
  {
   "cell_type": "code",
   "execution_count": 2,
   "id": "ab9e4f0a-16ad-429e-bb05-571224a019e5",
   "metadata": {},
   "outputs": [],
   "source": [
    "from langchain_openai import OpenAI, ChatOpenAI\n",
    "from langchain_core.messages import SystemMessage, HumanMessage, AIMessage"
   ]
  },
  {
   "cell_type": "code",
   "execution_count": 3,
   "id": "0de2238b-8acb-4c02-9eed-f8cf954b61fd",
   "metadata": {},
   "outputs": [],
   "source": [
    "dotenv_path = Path(\".../.env\")\n",
    "def get_openai_key():\n",
    "    load_dotenv(dotenv_path=dotenv_path)\n",
    "    key = os.getenv(\"OPENAI_API_KEY\")\n",
    "    if not key:\n",
    "        raise EnvironmentError(\"OPENAI_API_KEY is missing.\")\n",
    "    return key"
   ]
  },
  {
   "cell_type": "code",
   "execution_count": 4,
   "id": "66ab3e24-ac64-4982-8c47-5bdc9830236a",
   "metadata": {},
   "outputs": [],
   "source": [
    "openai_api_key = get_openai_key()"
   ]
  },
  {
   "cell_type": "code",
   "execution_count": 5,
   "id": "b692849a-2061-4be6-a8a3-92bfd317adf9",
   "metadata": {},
   "outputs": [],
   "source": [
    "llm_model = \"gpt-5-nano\"\n",
    "llm = ChatOpenAI(api_key=openai_api_key, model = llm_model)"
   ]
  },
  {
   "cell_type": "code",
   "execution_count": 6,
   "id": "a51a2cc8-a0e0-41a9-ad41-8178592dd970",
   "metadata": {},
   "outputs": [
    {
     "data": {
      "text/plain": [
       "langchain_openai.chat_models.base.ChatOpenAI"
      ]
     },
     "execution_count": 6,
     "metadata": {},
     "output_type": "execute_result"
    }
   ],
   "source": [
    "type(llm)"
   ]
  },
  {
   "cell_type": "markdown",
   "id": "a2f36af4-3966-4e5d-8139-45ec80126896",
   "metadata": {},
   "source": [
    "### The Two Types of OpenAI Models and Endpoints (from Gemini)\n",
    "OpenAI has two distinct generations of models, each with its own API endpoint:\n",
    "\n",
    "- **Legacy Completion Models**: These are older models like text-davinci-003. They were designed for single-turn text completion. You would give them a prompt like \"What is the capital of France?\" and they would complete the text. The **v1/completions** endpoint is used to call these models.   \n",
    "LangChain's **OpenAI.invoke** method uses the old, default **v1/completions** endpoint.\n",
    "\n",
    "- **Modern Chat Models**: These are all the newer, more powerful models, including gpt-3.5-turbo, gpt-4o, and the recent gpt-5 series. They are designed for multi-turn conversations. You must provide a list of messages with a role (e.g., user, system, assistant) to get a response. These models can only be called using the **v1/chat/completions** endpoint.    \n",
    "LangChain's **ChatOpenAI.invoke** method uses the new, default **v1/chat/completions** endpoint."
   ]
  },
  {
   "cell_type": "code",
   "execution_count": 7,
   "id": "5f94b55a-481e-4e67-959c-9b251f878b34",
   "metadata": {},
   "outputs": [],
   "source": [
    "response = llm.invoke(\"The meaning of life is \")"
   ]
  },
  {
   "cell_type": "code",
   "execution_count": 8,
   "id": "f2493fce-15ca-478f-9977-e4703f16fc2b",
   "metadata": {},
   "outputs": [
    {
     "name": "stdout",
     "output_type": "stream",
     "text": [
      "content='There isn’t a single universal answer. People find meaning in different ways. Here are a few common perspectives:\\n\\n- Religious/spiritual: Meaning comes from fulfilling a divine purpose, serving others, or seeking enlightenment.\\n- Existential: Life has no preset meaning; you create meaning through your choices, relationships, and projects.\\n- Eudaimonic/virtue: Meaning comes from living well, growing as a person, and realizing your potential.\\n- Hedonistic wellbeing: Meaning is about maximizing joy and minimizing suffering.\\n- Humanist/impact: Meaning comes from helping others, building community, and leaving a positive impact.\\n- Cosmic/agnostic: The universe may not assign meaning, but you can craft a personal narrative that gives your life purpose.\\n\\nIf you want, tell me your outlook (religious, secular, skeptical, poetic, practical), and I can tailor a definition of life’s meaning to fit you. Or I can guide you through a quick reflection to discover what feels meaningful to you.' additional_kwargs={'refusal': None} response_metadata={'token_usage': {'completion_tokens': 980, 'prompt_tokens': 12, 'total_tokens': 992, 'completion_tokens_details': {'accepted_prediction_tokens': 0, 'audio_tokens': 0, 'reasoning_tokens': 768, 'rejected_prediction_tokens': 0}, 'prompt_tokens_details': {'audio_tokens': 0, 'cached_tokens': 0}}, 'model_name': 'gpt-5-nano-2025-08-07', 'system_fingerprint': None, 'id': 'chatcmpl-C6CzLJBZSR9GWC0f0sK7dDUyBV3Jg', 'service_tier': 'default', 'finish_reason': 'stop', 'logprobs': None} id='run--ba7f1cda-1cbc-431d-82de-694b0a71aae7-0' usage_metadata={'input_tokens': 12, 'output_tokens': 980, 'total_tokens': 992, 'input_token_details': {'audio': 0, 'cache_read': 0}, 'output_token_details': {'audio': 0, 'reasoning': 768}}\n"
     ]
    }
   ],
   "source": [
    "print(response)"
   ]
  },
  {
   "cell_type": "code",
   "execution_count": 9,
   "id": "b635664d-34c5-406b-826a-8fa377adc59a",
   "metadata": {},
   "outputs": [
    {
     "name": "stdout",
     "output_type": "stream",
     "text": [
      "There isn’t a single universal answer. People find meaning in different ways. Here are a few common perspectives:\n",
      "\n",
      "- Religious/spiritual: Meaning comes from fulfilling a divine purpose, serving others, or seeking enlightenment.\n",
      "- Existential: Life has no preset meaning; you create meaning through your choices, relationships, and projects.\n",
      "- Eudaimonic/virtue: Meaning comes from living well, growing as a person, and realizing your potential.\n",
      "- Hedonistic wellbeing: Meaning is about maximizing joy and minimizing suffering.\n",
      "- Humanist/impact: Meaning comes from helping others, building community, and leaving a positive impact.\n",
      "- Cosmic/agnostic: The universe may not assign meaning, but you can craft a personal narrative that gives your life purpose.\n",
      "\n",
      "If you want, tell me your outlook (religious, secular, skeptical, poetic, practical), and I can tailor a definition of life’s meaning to fit you. Or I can guide you through a quick reflection to discover what feels meaningful to you.\n"
     ]
    }
   ],
   "source": [
    "print(response.content)"
   ]
  },
  {
   "cell_type": "markdown",
   "id": "5c7d2869-0200-4c5a-b979-5f9c2cba2f4c",
   "metadata": {},
   "source": [
    "### How to Use a List of Messages (from Gemini)\n",
    "\n",
    "When you call `ChatOpenAI.invoke`, the input should be a **list of `BaseMessage` objects** from `langchain_core.messages`. This list represents the full conversation history that you want the model to consider when generating its response.\n",
    "\n",
    "The messages are typically one of three types:\n",
    "\n",
    "  * **`SystemMessage`**: Provides instructions or context to the model for the entire conversation.\n",
    "  * **`HumanMessage`**: Represents a message from the user.\n",
    "  * **`AIMessage`**: Represents a message from the assistant (the model).\n",
    "\n",
    "Here's an example:\n",
    "\n",
    "```python\n",
    "from langchain_openai import ChatOpenAI\n",
    "from langchain_core.messages import SystemMessage, HumanMessage, AIMessage\n",
    "\n",
    "chat_model = ChatOpenAI(model=\"gpt-4o\")\n",
    "\n",
    "messages = [\n",
    "    SystemMessage(content=\"You are a helpful assistant that translates English to French.\"),\n",
    "    HumanMessage(content=\"I love programming.\"),\n",
    "    AIMessage(content=\"J'adore la programmation.\"),\n",
    "    HumanMessage(content=\"What is a vector store?\"),\n",
    "]\n",
    "\n",
    "response = chat_model.invoke(messages)\n",
    "\n",
    "print(response.content)\n",
    "```\n",
    "\n",
    "In this example, the model receives the entire history, including the initial system message and previous turns of the conversation. This allows it to understand the context and generate a relevant response for the final question."
   ]
  },
  {
   "cell_type": "code",
   "execution_count": 10,
   "id": "b98dd70e-8839-47e9-88c6-931eb8390e51",
   "metadata": {},
   "outputs": [],
   "source": [
    "messages = [\n",
    "    SystemMessage(content=\"You are an astronomer talking to a non-technical audience\"),\n",
    "    HumanMessage(content=\"What is a black hole?\")\n",
    "]"
   ]
  },
  {
   "cell_type": "code",
   "execution_count": 11,
   "id": "8a6d462b-7bde-44f5-95af-5737239d0a34",
   "metadata": {},
   "outputs": [],
   "source": [
    "response_2 = llm.invoke(messages)"
   ]
  },
  {
   "cell_type": "code",
   "execution_count": 12,
   "id": "3d337cc1-9428-4ebf-81ed-b7821fb7eacf",
   "metadata": {},
   "outputs": [
    {
     "name": "stdout",
     "output_type": "stream",
     "text": [
      "Here’s a simple, non-technical picture of what a black hole is.\n",
      "\n",
      "- The basic idea: A black hole is a region of space where gravity is so strong that nothing can escape from it—not even light—once it crosses a boundary called the event horizon. That boundary marks the point beyond which nothing can return once you’re inside.\n",
      "\n",
      "- Why it exists: Black holes form when enough mass is squeezed into a small enough space that gravity dominates everything else. The most common kinds come from collapsing massive stars, but galaxies can harbor enormous black holes at their centers that grew by eating surrounding matter.\n",
      "\n",
      "- How big are they? There are several families:\n",
      "  - Stellar-mass black holes: a few to a few tens of solar masses. They come from dying stars.\n",
      "  - Supermassive black holes: millions to billions of solar masses, found at the centers of most galaxies (including our Milky Way).\n",
      "  - There’s also a possible middle range (intermediate-mass) that scientists are still looking for.\n",
      "\n",
      "- A handy way to think about their size: The boundary around a black hole, called the Schwarzschild radius, scales with mass. For the Sun, if you could squeeze it into a black hole, the boundary would be a sphere about 3 kilometers across. For Earth, the radius would be about 9 millimeters. So the same mass, but compressed into a really tiny space, makes a huge gravitational trap.\n",
      "\n",
      "- What we actually see: We can’t see the inside, but we infer their presence from their effects on nearby matter and light:\n",
      "  - Stars and gas near a black hole move as if pulled by a very intense gravity.\n",
      "  - Matter spiraling into a black hole heats up and shines in X-rays (an accretion disk).\n",
      "  - In 2019, the Event Horizon Telescope imaged the shadow of a supermassive black hole in the galaxy M87, giving us a real visual glimpse of the region near the boundary.\n",
      "  - Gravitational waves from mergers of black holes have been detected by LIGO/Virgo, confirming that these objects collide and merge as predicted.\n",
      "\n",
      "- A quick note on “singularities”: General relativity predicts a place where densities would become infinite (a singularity) inside a black hole. That signals a limit of our current theories, and quantum gravity (a theory we don’t yet have) would likely change the story there.\n",
      "\n",
      "- Do they “evaporate”? Very tiny black holes would slowly disappear via Hawking radiation, but for the big astrophysical ones, evaporation is incredibly slow—effectively negligible over the age of the universe.\n",
      "\n",
      "If you’d like, I can tailor this to a specific example (like Sgr A* at the center of our galaxy) or go into one of these aspects—how we measure them, or how black holes affect their surroundings.\n"
     ]
    }
   ],
   "source": [
    "print(response_2.content)"
   ]
  },
  {
   "cell_type": "code",
   "execution_count": null,
   "id": "169da704-8a58-40cb-9f0d-68928c5ec195",
   "metadata": {},
   "outputs": [],
   "source": []
  }
 ],
 "metadata": {
  "kernelspec": {
   "display_name": "Python 3 (ipykernel)",
   "language": "python",
   "name": "python3"
  },
  "language_info": {
   "codemirror_mode": {
    "name": "ipython",
    "version": 3
   },
   "file_extension": ".py",
   "mimetype": "text/x-python",
   "name": "python",
   "nbconvert_exporter": "python",
   "pygments_lexer": "ipython3",
   "version": "3.12.7"
  }
 },
 "nbformat": 4,
 "nbformat_minor": 5
}
